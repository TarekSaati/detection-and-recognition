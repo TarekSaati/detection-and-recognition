{
 "cells": [
  {
   "cell_type": "code",
   "execution_count": 2,
   "metadata": {},
   "outputs": [
    {
     "name": "stdout",
     "output_type": "stream",
     "text": [
      "\n",
      "Training accuracy: precision: 1, recall: 0, average precision: 0\n",
      "Testing accuracy: precision: 1, recall: 0, average precision: 0\n"
     ]
    }
   ],
   "source": [
    "import os\n",
    "import glob\n",
    "import dlib\n",
    "from skimage import io\n",
    "\n",
    "train_folder = './train-cars/'\n",
    "test_folder = './test-cars/'\n",
    "options = dlib.simple_object_detector_training_options()\n",
    "options.add_left_right_image_flips = True\n",
    "\n",
    "# SVC options\n",
    "options.C = 5\n",
    "# Tell the code how many CPU cores your computer has for the fastest training.\n",
    "options.num_threads = 4\n",
    "options.be_verbose = True\n",
    "\n",
    "training_xml_path = os.path.join(train_folder, \"train.xml\")\n",
    "testing_xml_path = os.path.join(test_folder, \"test.xml\")\n",
    "dlib.train_simple_object_detector(training_xml_path, \"detector.svm\", options)\n",
    "\n",
    "print(\"\")  # Print blank line to create gap from previous output\n",
    "print(\"Training accuracy: {}\".format(\n",
    "    dlib.test_simple_object_detector(training_xml_path, \"detector.svm\")))\n",
    "print(\"Testing accuracy: {}\".format(\n",
    "    dlib.test_simple_object_detector(testing_xml_path, \"detector.svm\")))\n"
   ]
  },
  {
   "cell_type": "code",
   "execution_count": 3,
   "metadata": {},
   "outputs": [],
   "source": [
    "detector = dlib.simple_object_detector(\"detector.svm\")\n",
    "win_det = dlib.image_window()\n",
    "win_det.set_image(detector)\n",
    "\n",
    "print(\"Showing detections on the images in the faces folder...\")\n",
    "win = dlib.image_window()\n",
    "for f in glob.glob('./test-cars/dataset/*.jpg'):\n",
    "    print(\"Processing file: {}\".format(f))\n",
    "    img = io.imread(f)\n",
    "    dets = detector(img)\n",
    "    print(\"Number of faces detected: {}\".format(len(dets)))\n",
    "    for k, d in enumerate(dets):\n",
    "        print(\"Detection {}: Left: {} Top: {} Right: {} Bottom: {}\".format(\n",
    "            k, d.left(), d.top(), d.right(), d.bottom()))\n",
    "\n",
    "    win.clear_overlay()\n",
    "    win.set_image(img)\n",
    "    win.add_overlay(dets)\n",
    "    dlib.hit_enter_to_continue()"
   ]
  },
  {
   "cell_type": "code",
   "execution_count": null,
   "metadata": {},
   "outputs": [],
   "source": []
  }
 ],
 "metadata": {
  "kernelspec": {
   "display_name": "dlib",
   "language": "python",
   "name": "python3"
  },
  "language_info": {
   "codemirror_mode": {
    "name": "ipython",
    "version": 3
   },
   "file_extension": ".py",
   "mimetype": "text/x-python",
   "name": "python",
   "nbconvert_exporter": "python",
   "pygments_lexer": "ipython3",
   "version": "3.8.17"
  },
  "orig_nbformat": 4
 },
 "nbformat": 4,
 "nbformat_minor": 2
}
